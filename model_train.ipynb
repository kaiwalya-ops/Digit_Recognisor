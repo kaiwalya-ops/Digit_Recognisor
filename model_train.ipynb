{
 "cells": [
  {
   "cell_type": "markdown",
   "metadata": {},
   "source": [
    "Import all the libraries"
   ]
  },
  {
   "cell_type": "code",
   "execution_count": 9,
   "metadata": {},
   "outputs": [],
   "source": [
    "import numpy as np\n",
    "import matplotlib.pyplot as plt\n",
    "%matplotlib inline"
   ]
  },
  {
   "cell_type": "code",
   "execution_count": 10,
   "metadata": {},
   "outputs": [],
   "source": [
    "import keras\n",
    "from keras.datasets import mnist\n",
    "\n",
    "from tensorflow.keras.utils import to_categorical\n",
    "from keras.models import Sequential\n",
    "from keras.layers import Dense, Conv2D, MaxPool2D, Flatten, Dropout\n",
    "\n",
    "from keras.callbacks import EarlyStopping,ModelCheckpoint"
   ]
  },
  {
   "cell_type": "markdown",
   "metadata": {},
   "source": [
    "**Get the Data and preprocess it**"
   ]
  },
  {
   "cell_type": "code",
   "execution_count": 11,
   "metadata": {},
   "outputs": [
    {
     "data": {
      "text/plain": [
       "((60000, 28, 28), (60000,), (60000, 28, 28), (10000,))"
      ]
     },
     "execution_count": 11,
     "metadata": {},
     "output_type": "execute_result"
    }
   ],
   "source": [
    "(X_train,y_train),(X_test,y_test)=mnist.load_data()\n",
    "X_train.shape, y_train.shape, X_train.shape, y_test.shape"
   ]
  },
  {
   "cell_type": "code",
   "execution_count": 12,
   "metadata": {},
   "outputs": [],
   "source": [
    "def plot_mnist(i:str)->None:\n",
    "    plt.imshow(X_train[i],cmap='binary')\n",
    "    plt.title(y_train[i])\n",
    "    plt.show()"
   ]
  },
  {
   "cell_type": "code",
   "execution_count": 13,
   "metadata": {},
   "outputs": [
    {
     "data": {
      "image/png": "[encoded data removed]",
      "text/plain": [
       "<Figure size 432x288 with 1 Axes>"
      ]
     },
     "metadata": {
      "needs_background": "light"
     },
     "output_type": "display_data"
    },
    {
     "data": {
      "image/png": "[encoded data removed]",
      "text/plain": [
       "<Figure size 432x288 with 1 Axes>"
      ]
     },
     "metadata": {
      "needs_background": "light"
     },
     "output_type": "display_data"
    },
    {
     "data": {
      "image/png": "[encoded data removed]",
      "text/plain": [
       "<Figure size 432x288 with 1 Axes>"
      ]
     },
     "metadata": {
      "needs_background": "light"
     },
     "output_type": "display_data"
    },
    {
     "data": {
      "image/png": "[encoded data removed]",
      "text/plain": [
       "<Figure size 432x288 with 1 Axes>"
      ]
     },
     "metadata": {
      "needs_background": "light"
     },
     "output_type": "display_data"
    },
    {
     "data": {
      "image/png": "[encoded data removed]",
      "text/plain": [
       "<Figure size 432x288 with 1 Axes>"
      ]
     },
     "metadata": {
      "needs_background": "light"
     },
     "output_type": "display_data"
    }
   ],
   "source": [
    "for i in range(5):\n",
    "    plot_mnist(i)"
   ]
  },
  {
   "cell_type": "code",
   "execution_count": 14,
   "metadata": {},
   "outputs": [],
   "source": [
    "#pre processing the images\n",
    "\n",
    "#Normalizing the image to [0,1] range\n",
    "X_test=X_test.astype(np.float32)/255\n",
    "X_train=X_train.astype(np.float32)/255\n",
    "\n",
    "#expand the dimesions of image to (28,28,1)\n",
    "X_train=np.expand_dims(X_train,-1)\n",
    "X_test=np.expand_dims(X_test,-1)\n",
    "\n",
    "#converting classes to one hot vectors\n",
    "y_test=to_categorical(y_test)\n",
    "y_train=to_categorical(y_train)"
   ]
  },
  {
   "cell_type": "code",
   "execution_count": 15,
   "metadata": {},
   "outputs": [],
   "source": [
    "model=Sequential()\n",
    "\n",
    "model.add(Conv2D(32,(3,3),input_shape = (28,28,1),activation='relu'))\n",
    "model.add(MaxPool2D((2,2)))\n",
    "\n",
    "model.add(Conv2D(64,(3,3),activation='relu'))\n",
    "model.add(MaxPool2D((2,2)))\n",
    "\n",
    "model.add(Flatten())\n",
    "model.add(Dropout(0.15))\n",
    "\n",
    "model.add(Dense(10,activation='softmax'))"
   ]
  },
  {
   "cell_type": "code",
   "execution_count": 13,
   "metadata": {},
   "outputs": [
    {
     "name": "stdout",
     "output_type": "stream",
     "text": [
      "Model: \"sequential\"\n",
      "_________________________________________________________________\n",
      " Layer (type)                Output Shape              Param #   \n",
      "=================================================================\n",
      " conv2d (Conv2D)             (None, 26, 26, 32)        320       \n",
      "                                                                 \n",
      " max_pooling2d (MaxPooling2D  (None, 13, 13, 32)       0         \n",
      " )                                                               \n",
      "                                                                 \n",
      " conv2d_1 (Conv2D)           (None, 11, 11, 64)        18496     \n",
      "                                                                 \n",
      " max_pooling2d_1 (MaxPooling  (None, 5, 5, 64)         0         \n",
      " 2D)                                                             \n",
      "                                                                 \n",
      " flatten (Flatten)           (None, 1600)              0         \n",
      "                                                                 \n",
      " dropout (Dropout)           (None, 1600)              0         \n",
      "                                                                 \n",
      " dense (Dense)               (None, 10)                16010     \n",
      "                                                                 \n",
      "=================================================================\n",
      "Total params: 34,826\n",
      "Trainable params: 34,826\n",
      "Non-trainable params: 0\n",
      "_________________________________________________________________\n"
     ]
    }
   ],
   "source": [
    "model.summary()"
   ]
  },
  {
   "cell_type": "code",
   "execution_count": 14,
   "metadata": {},
   "outputs": [],
   "source": [
    "model.compile(optimizer='adam',loss=keras.losses.categorical_crossentropy, metrics=['accuracy'])"
   ]
  },
  {
   "cell_type": "code",
   "execution_count": 16,
   "metadata": {},
   "outputs": [],
   "source": [
    "#callback\n",
    "es=EarlyStopping(monitor='val_acc',min_delta=0.01,patience=4,verbose=1)\n",
    "\n",
    "mc=ModelCheckpoint(filepath='./model.h5',monitor='val_acc',verbose=1,save_best_only=True)\n",
    "\n",
    "cb=[es,mc]"
   ]
  },
  {
   "cell_type": "markdown",
   "metadata": {},
   "source": [
    "***MODEL TRAINING***"
   ]
  },
  {
   "cell_type": "code",
   "execution_count": 18,
   "metadata": {},
   "outputs": [
    {
     "name": "stdout",
     "output_type": "stream",
     "text": [
      "Epoch 1/50\n",
      "1311/1313 [============================>.] - ETA: 0s - loss: 0.0034 - accuracy: 0.9988 ETA: WARNING:tensorflow:Early stopping conditioned on metric `val_acc` which is not available. Available metrics are: loss,accuracy,val_loss,val_accuracy\n",
      "WARNING:tensorflow:Can save best model only with val_acc available, skipping.\n",
      "1313/1313 [==============================] - 38s 29ms/step - loss: 0.0034 - accuracy: 0.9988 - val_loss: 0.0715 - val_accuracy: 0.9894\n",
      "Epoch 2/50\n",
      "1311/1313 [============================>.] - ETA: 0s - loss: 0.0040 - accuracy: 0.9986WARNING:tensorflow:Early stopping conditioned on metric `val_acc` which is not available. Available metrics are: loss,accuracy,val_loss,val_accuracy\n",
      "WARNING:tensorflow:Can save best model only with val_acc available, skipping.\n",
      "1313/1313 [==============================] - 36s 27ms/step - loss: 0.0040 - accuracy: 0.9986 - val_loss: 0.0852 - val_accuracy: 0.9894\n",
      "Epoch 3/50\n",
      "1312/1313 [============================>.] - ETA: 0s - loss: 0.0057 - accuracy: 0.9983WARNING:tensorflow:Early stopping conditioned on metric `val_acc` which is not available. Available metrics are: loss,accuracy,val_loss,val_accuracy\n",
      "WARNING:tensorflow:Can save best model only with val_acc available, skipping.\n",
      "1313/1313 [==============================] - 33s 25ms/step - loss: 0.0057 - accuracy: 0.9983 - val_loss: 0.0669 - val_accuracy: 0.9899\n",
      "Epoch 4/50\n",
      "1311/1313 [============================>.] - ETA: 0s - loss: 0.0024 - accuracy: 0.9991WARNING:tensorflow:Early stopping conditioned on metric `val_acc` which is not available. Available metrics are: loss,accuracy,val_loss,val_accuracy\n",
      "WARNING:tensorflow:Can save best model only with val_acc available, skipping.\n",
      "1313/1313 [==============================] - 28s 22ms/step - loss: 0.0024 - accuracy: 0.9991 - val_loss: 0.0712 - val_accuracy: 0.9896\n",
      "Epoch 5/50\n",
      "1311/1313 [============================>.] - ETA: 0s - loss: 0.0037 - accuracy: 0.9989WARNING:tensorflow:Early stopping conditioned on metric `val_acc` which is not available. Available metrics are: loss,accuracy,val_loss,val_accuracy\n",
      "WARNING:tensorflow:Can save best model only with val_acc available, skipping.\n",
      "1313/1313 [==============================] - 30s 23ms/step - loss: 0.0037 - accuracy: 0.9989 - val_loss: 0.0703 - val_accuracy: 0.9901\n",
      "Epoch 6/50\n",
      "1311/1313 [============================>.] - ETA: 0s - loss: 0.0016 - accuracy: 0.9994WARNING:tensorflow:Early stopping conditioned on metric `val_acc` which is not available. Available metrics are: loss,accuracy,val_loss,val_accuracy\n",
      "WARNING:tensorflow:Can save best model only with val_acc available, skipping.\n",
      "1313/1313 [==============================] - 42s 32ms/step - loss: 0.0016 - accuracy: 0.9994 - val_loss: 0.0762 - val_accuracy: 0.9897\n",
      "Epoch 7/50\n",
      "1311/1313 [============================>.] - ETA: 0s - loss: 0.0043 - accuracy: 0.9985WARNING:tensorflow:Early stopping conditioned on metric `val_acc` which is not available. Available metrics are: loss,accuracy,val_loss,val_accuracy\n",
      "WARNING:tensorflow:Can save best model only with val_acc available, skipping.\n",
      "1313/1313 [==============================] - 30s 23ms/step - loss: 0.0043 - accuracy: 0.9985 - val_loss: 0.0732 - val_accuracy: 0.9902\n",
      "Epoch 8/50\n",
      "1310/1313 [============================>.] - ETA: 0s - loss: 0.0027 - accuracy: 0.9990WARNING:tensorflow:Early stopping conditioned on metric `val_acc` which is not available. Available metrics are: loss,accuracy,val_loss,val_accuracy\n",
      "WARNING:tensorflow:Can save best model only with val_acc available, skipping.\n",
      "1313/1313 [==============================] - 31s 23ms/step - loss: 0.0027 - accuracy: 0.9990 - val_loss: 0.0798 - val_accuracy: 0.9889\n",
      "Epoch 9/50\n",
      "1313/1313 [==============================] - ETA: 0s - loss: 0.0029 - accuracy: 0.9990WARNING:tensorflow:Early stopping conditioned on metric `val_acc` which is not available. Available metrics are: loss,accuracy,val_loss,val_accuracy\n",
      "WARNING:tensorflow:Can save best model only with val_acc available, skipping.\n",
      "1313/1313 [==============================] - 25s 19ms/step - loss: 0.0029 - accuracy: 0.9990 - val_loss: 0.0935 - val_accuracy: 0.9880\n",
      "Epoch 10/50\n",
      "1313/1313 [==============================] - ETA: 0s - loss: 0.0033 - accuracy: 0.9989WARNING:tensorflow:Early stopping conditioned on metric `val_acc` which is not available. Available metrics are: loss,accuracy,val_loss,val_accuracy\n",
      "WARNING:tensorflow:Can save best model only with val_acc available, skipping.\n",
      "1313/1313 [==============================] - 24s 18ms/step - loss: 0.0033 - accuracy: 0.9989 - val_loss: 0.0753 - val_accuracy: 0.9904\n",
      "Epoch 11/50\n",
      "1311/1313 [============================>.] - ETA: 0s - loss: 0.0023 - accuracy: 0.9992WARNING:tensorflow:Early stopping conditioned on metric `val_acc` which is not available. Available metrics are: loss,accuracy,val_loss,val_accuracy\n",
      "WARNING:tensorflow:Can save best model only with val_acc available, skipping.\n",
      "1313/1313 [==============================] - 24s 18ms/step - loss: 0.0023 - accuracy: 0.9992 - val_loss: 0.0774 - val_accuracy: 0.9897\n",
      "Epoch 12/50\n",
      "1312/1313 [============================>.] - ETA: 0s - loss: 0.0037 - accuracy: 0.9990WARNING:tensorflow:Early stopping conditioned on metric `val_acc` which is not available. Available metrics are: loss,accuracy,val_loss,val_accuracy\n",
      "WARNING:tensorflow:Can save best model only with val_acc available, skipping.\n",
      "1313/1313 [==============================] - 25s 19ms/step - loss: 0.0037 - accuracy: 0.9990 - val_loss: 0.0723 - val_accuracy: 0.9904\n",
      "Epoch 13/50\n",
      "1310/1313 [============================>.] - ETA: 0s - loss: 0.0029 - accuracy: 0.9990WARNING:tensorflow:Early stopping conditioned on metric `val_acc` which is not available. Available metrics are: loss,accuracy,val_loss,val_accuracy\n",
      "WARNING:tensorflow:Can save best model only with val_acc available, skipping.\n",
      "1313/1313 [==============================] - 24s 18ms/step - loss: 0.0029 - accuracy: 0.9990 - val_loss: 0.0842 - val_accuracy: 0.9881\n",
      "Epoch 14/50\n",
      "1312/1313 [============================>.] - ETA: 0s - loss: 0.0034 - accuracy: 0.9990WARNING:tensorflow:Early stopping conditioned on metric `val_acc` which is not available. Available metrics are: loss,accuracy,val_loss,val_accuracy\n",
      "WARNING:tensorflow:Can save best model only with val_acc available, skipping.\n",
      "1313/1313 [==============================] - 24s 18ms/step - loss: 0.0034 - accuracy: 0.9990 - val_loss: 0.0865 - val_accuracy: 0.9893\n",
      "Epoch 15/50\n",
      "1310/1313 [============================>.] - ETA: 0s - loss: 0.0026 - accuracy: 0.9990WARNING:tensorflow:Early stopping conditioned on metric `val_acc` which is not available. Available metrics are: loss,accuracy,val_loss,val_accuracy\n",
      "WARNING:tensorflow:Can save best model only with val_acc available, skipping.\n",
      "1313/1313 [==============================] - 24s 18ms/step - loss: 0.0026 - accuracy: 0.9990 - val_loss: 0.0857 - val_accuracy: 0.9892\n",
      "Epoch 16/50\n",
      "1311/1313 [============================>.] - ETA: 0s - loss: 0.0029 - accuracy: 0.9992WARNING:tensorflow:Early stopping conditioned on metric `val_acc` which is not available. Available metrics are: loss,accuracy,val_loss,val_accuracy\n",
      "WARNING:tensorflow:Can save best model only with val_acc available, skipping.\n",
      "1313/1313 [==============================] - 24s 18ms/step - loss: 0.0029 - accuracy: 0.9992 - val_loss: 0.0810 - val_accuracy: 0.9897\n",
      "Epoch 17/50\n",
      "1312/1313 [============================>.] - ETA: 0s - loss: 0.0037 - accuracy: 0.9990WARNING:tensorflow:Early stopping conditioned on metric `val_acc` which is not available. Available metrics are: loss,accuracy,val_loss,val_accuracy\n",
      "WARNING:tensorflow:Can save best model only with val_acc available, skipping.\n",
      "1313/1313 [==============================] - 24s 18ms/step - loss: 0.0037 - accuracy: 0.9990 - val_loss: 0.0773 - val_accuracy: 0.9897\n",
      "Epoch 18/50\n",
      "1310/1313 [============================>.] - ETA: 0s - loss: 0.0016 - accuracy: 0.9995WARNING:tensorflow:Early stopping conditioned on metric `val_acc` which is not available. Available metrics are: loss,accuracy,val_loss,val_accuracy\n",
      "WARNING:tensorflow:Can save best model only with val_acc available, skipping.\n",
      "1313/1313 [==============================] - 24s 18ms/step - loss: 0.0016 - accuracy: 0.9995 - val_loss: 0.0766 - val_accuracy: 0.9899\n",
      "Epoch 19/50\n",
      "1311/1313 [============================>.] - ETA: 0s - loss: 0.0033 - accuracy: 0.9990WARNING:tensorflow:Early stopping conditioned on metric `val_acc` which is not available. Available metrics are: loss,accuracy,val_loss,val_accuracy\n",
      "WARNING:tensorflow:Can save best model only with val_acc available, skipping.\n",
      "1313/1313 [==============================] - 25s 19ms/step - loss: 0.0033 - accuracy: 0.9990 - val_loss: 0.0740 - val_accuracy: 0.9906\n",
      "Epoch 20/50\n",
      "1312/1313 [============================>.] - ETA: 0s - loss: 0.0025 - accuracy: 0.9992WARNING:tensorflow:Early stopping conditioned on metric `val_acc` which is not available. Available metrics are: loss,accuracy,val_loss,val_accuracy\n",
      "WARNING:tensorflow:Can save best model only with val_acc available, skipping.\n",
      "1313/1313 [==============================] - 24s 18ms/step - loss: 0.0025 - accuracy: 0.9992 - val_loss: 0.0870 - val_accuracy: 0.9891\n",
      "Epoch 21/50\n",
      "1312/1313 [============================>.] - ETA: 0s - loss: 0.0030 - accuracy: 0.9990WARNING:tensorflow:Early stopping conditioned on metric `val_acc` which is not available. Available metrics are: loss,accuracy,val_loss,val_accuracy\n",
      "WARNING:tensorflow:Can save best model only with val_acc available, skipping.\n",
      "1313/1313 [==============================] - 25s 19ms/step - loss: 0.0030 - accuracy: 0.9990 - val_loss: 0.0744 - val_accuracy: 0.9905\n",
      "Epoch 22/50\n",
      "1312/1313 [============================>.] - ETA: 0s - loss: 0.0025 - accuracy: 0.9992WARNING:tensorflow:Early stopping conditioned on metric `val_acc` which is not available. Available metrics are: loss,accuracy,val_loss,val_accuracy\n",
      "WARNING:tensorflow:Can save best model only with val_acc available, skipping.\n",
      "1313/1313 [==============================] - 24s 18ms/step - loss: 0.0025 - accuracy: 0.9992 - val_loss: 0.0758 - val_accuracy: 0.9897\n",
      "Epoch 23/50\n",
      "1310/1313 [============================>.] - ETA: 0s - loss: 0.0030 - accuracy: 0.9989WARNING:tensorflow:Early stopping conditioned on metric `val_acc` which is not available. Available metrics are: loss,accuracy,val_loss,val_accuracy\n",
      "WARNING:tensorflow:Can save best model only with val_acc available, skipping.\n",
      "1313/1313 [==============================] - 24s 18ms/step - loss: 0.0031 - accuracy: 0.9989 - val_loss: 0.0848 - val_accuracy: 0.9894\n",
      "Epoch 24/50\n",
      "1312/1313 [============================>.] - ETA: 0s - loss: 0.0036 - accuracy: 0.9989WARNING:tensorflow:Early stopping conditioned on metric `val_acc` which is not available. Available metrics are: loss,accuracy,val_loss,val_accuracy\n",
      "WARNING:tensorflow:Can save best model only with val_acc available, skipping.\n",
      "1313/1313 [==============================] - 24s 18ms/step - loss: 0.0036 - accuracy: 0.9989 - val_loss: 0.0870 - val_accuracy: 0.9903\n",
      "Epoch 25/50\n",
      "1310/1313 [============================>.] - ETA: 0s - loss: 0.0027 - accuracy: 0.9990WARNING:tensorflow:Early stopping conditioned on metric `val_acc` which is not available. Available metrics are: loss,accuracy,val_loss,val_accuracy\n",
      "WARNING:tensorflow:Can save best model only with val_acc available, skipping.\n",
      "1313/1313 [==============================] - 24s 18ms/step - loss: 0.0027 - accuracy: 0.9990 - val_loss: 0.0960 - val_accuracy: 0.9887\n",
      "Epoch 26/50\n",
      "1312/1313 [============================>.] - ETA: 0s - loss: 0.0030 - accuracy: 0.9990WARNING:tensorflow:Early stopping conditioned on metric `val_acc` which is not available. Available metrics are: loss,accuracy,val_loss,val_accuracy\n",
      "WARNING:tensorflow:Can save best model only with val_acc available, skipping.\n",
      "1313/1313 [==============================] - 23s 18ms/step - loss: 0.0030 - accuracy: 0.9990 - val_loss: 0.0823 - val_accuracy: 0.9902\n",
      "Epoch 27/50\n",
      "1313/1313 [==============================] - ETA: 0s - loss: 0.0021 - accuracy: 0.9994WARNING:tensorflow:Early stopping conditioned on metric `val_acc` which is not available. Available metrics are: loss,accuracy,val_loss,val_accuracy\n",
      "WARNING:tensorflow:Can save best model only with val_acc available, skipping.\n",
      "1313/1313 [==============================] - 24s 19ms/step - loss: 0.0021 - accuracy: 0.9994 - val_loss: 0.0835 - val_accuracy: 0.9902\n",
      "Epoch 28/50\n",
      "1312/1313 [============================>.] - ETA: 0s - loss: 0.0023 - accuracy: 0.9993WARNING:tensorflow:Early stopping conditioned on metric `val_acc` which is not available. Available metrics are: loss,accuracy,val_loss,val_accuracy\n",
      "WARNING:tensorflow:Can save best model only with val_acc available, skipping.\n",
      "1313/1313 [==============================] - 24s 18ms/step - loss: 0.0023 - accuracy: 0.9993 - val_loss: 0.0849 - val_accuracy: 0.9887\n",
      "Epoch 29/50\n",
      "1312/1313 [============================>.] - ETA: 0s - loss: 0.0032 - accuracy: 0.9991WARNING:tensorflow:Early stopping conditioned on metric `val_acc` which is not available. Available metrics are: loss,accuracy,val_loss,val_accuracy\n",
      "WARNING:tensorflow:Can save best model only with val_acc available, skipping.\n",
      "1313/1313 [==============================] - 23s 18ms/step - loss: 0.0032 - accuracy: 0.9991 - val_loss: 0.0826 - val_accuracy: 0.9897\n",
      "Epoch 30/50\n",
      "1310/1313 [============================>.] - ETA: 0s - loss: 0.0025 - accuracy: 0.9991WARNING:tensorflow:Early stopping conditioned on metric `val_acc` which is not available. Available metrics are: loss,accuracy,val_loss,val_accuracy\n",
      "WARNING:tensorflow:Can save best model only with val_acc available, skipping.\n",
      "1313/1313 [==============================] - 24s 18ms/step - loss: 0.0025 - accuracy: 0.9991 - val_loss: 0.0824 - val_accuracy: 0.9902\n",
      "Epoch 31/50\n",
      "1312/1313 [============================>.] - ETA: 0s - loss: 0.0019 - accuracy: 0.9994WARNING:tensorflow:Early stopping conditioned on metric `val_acc` which is not available. Available metrics are: loss,accuracy,val_loss,val_accuracy\n",
      "WARNING:tensorflow:Can save best model only with val_acc available, skipping.\n",
      "1313/1313 [==============================] - 24s 18ms/step - loss: 0.0019 - accuracy: 0.9994 - val_loss: 0.1006 - val_accuracy: 0.9888\n",
      "Epoch 32/50\n",
      "1310/1313 [============================>.] - ETA: 0s - loss: 0.0041 - accuracy: 0.9989WARNING:tensorflow:Early stopping conditioned on metric `val_acc` which is not available. Available metrics are: loss,accuracy,val_loss,val_accuracy\n",
      "WARNING:tensorflow:Can save best model only with val_acc available, skipping.\n",
      "1313/1313 [==============================] - 24s 18ms/step - loss: 0.0041 - accuracy: 0.9989 - val_loss: 0.0840 - val_accuracy: 0.9899\n",
      "Epoch 33/50\n",
      "1311/1313 [============================>.] - ETA: 0s - loss: 0.0021 - accuracy: 0.9993WARNING:tensorflow:Early stopping conditioned on metric `val_acc` which is not available. Available metrics are: loss,accuracy,val_loss,val_accuracy\n",
      "WARNING:tensorflow:Can save best model only with val_acc available, skipping.\n",
      "1313/1313 [==============================] - 24s 18ms/step - loss: 0.0021 - accuracy: 0.9993 - val_loss: 0.0821 - val_accuracy: 0.9903\n",
      "Epoch 34/50\n",
      "1312/1313 [============================>.] - ETA: 0s - loss: 0.0030 - accuracy: 0.9990WARNING:tensorflow:Early stopping conditioned on metric `val_acc` which is not available. Available metrics are: loss,accuracy,val_loss,val_accuracy\n",
      "WARNING:tensorflow:Can save best model only with val_acc available, skipping.\n",
      "1313/1313 [==============================] - 23s 18ms/step - loss: 0.0030 - accuracy: 0.9990 - val_loss: 0.0855 - val_accuracy: 0.9899\n",
      "Epoch 35/50\n",
      "1312/1313 [============================>.] - ETA: 0s - loss: 0.0024 - accuracy: 0.9994WARNING:tensorflow:Early stopping conditioned on metric `val_acc` which is not available. Available metrics are: loss,accuracy,val_loss,val_accuracy\n",
      "WARNING:tensorflow:Can save best model only with val_acc available, skipping.\n",
      "1313/1313 [==============================] - 24s 19ms/step - loss: 0.0024 - accuracy: 0.9994 - val_loss: 0.0875 - val_accuracy: 0.9901\n",
      "Epoch 36/50\n",
      "1310/1313 [============================>.] - ETA: 0s - loss: 0.0030 - accuracy: 0.9990WARNING:tensorflow:Early stopping conditioned on metric `val_acc` which is not available. Available metrics are: loss,accuracy,val_loss,val_accuracy\n",
      "WARNING:tensorflow:Can save best model only with val_acc available, skipping.\n",
      "1313/1313 [==============================] - 23s 18ms/step - loss: 0.0030 - accuracy: 0.9990 - val_loss: 0.0965 - val_accuracy: 0.9887\n",
      "Epoch 37/50\n",
      "1312/1313 [============================>.] - ETA: 0s - loss: 0.0038 - accuracy: 0.9990WARNING:tensorflow:Early stopping conditioned on metric `val_acc` which is not available. Available metrics are: loss,accuracy,val_loss,val_accuracy\n",
      "WARNING:tensorflow:Can save best model only with val_acc available, skipping.\n",
      "1313/1313 [==============================] - 23s 18ms/step - loss: 0.0038 - accuracy: 0.9990 - val_loss: 0.0820 - val_accuracy: 0.9906\n",
      "Epoch 38/50\n",
      "1310/1313 [============================>.] - ETA: 0s - loss: 0.0025 - accuracy: 0.9991WARNING:tensorflow:Early stopping conditioned on metric `val_acc` which is not available. Available metrics are: loss,accuracy,val_loss,val_accuracy\n",
      "WARNING:tensorflow:Can save best model only with val_acc available, skipping.\n",
      "1313/1313 [==============================] - 24s 18ms/step - loss: 0.0025 - accuracy: 0.9991 - val_loss: 0.0853 - val_accuracy: 0.9901\n",
      "Epoch 39/50\n",
      "1311/1313 [============================>.] - ETA: 0s - loss: 0.0014 - accuracy: 0.9995WARNING:tensorflow:Early stopping conditioned on metric `val_acc` which is not available. Available metrics are: loss,accuracy,val_loss,val_accuracy\n",
      "WARNING:tensorflow:Can save best model only with val_acc available, skipping.\n",
      "1313/1313 [==============================] - 23s 18ms/step - loss: 0.0014 - accuracy: 0.9995 - val_loss: 0.0975 - val_accuracy: 0.9902\n",
      "Epoch 40/50\n",
      "1310/1313 [============================>.] - ETA: 0s - loss: 0.0030 - accuracy: 0.9990WARNING:tensorflow:Early stopping conditioned on metric `val_acc` which is not available. Available metrics are: loss,accuracy,val_loss,val_accuracy\n",
      "WARNING:tensorflow:Can save best model only with val_acc available, skipping.\n",
      "1313/1313 [==============================] - 24s 18ms/step - loss: 0.0031 - accuracy: 0.9989 - val_loss: 0.0969 - val_accuracy: 0.9896\n",
      "Epoch 41/50\n",
      "1312/1313 [============================>.] - ETA: 0s - loss: 0.0025 - accuracy: 0.9990 ETA: 0s - loss: 0.0025 - acWARNING:tensorflow:Early stopping conditioned on metric `val_acc` which is not available. Available metrics are: loss,accuracy,val_loss,val_accuracy\n",
      "WARNING:tensorflow:Can save best model only with val_acc available, skipping.\n",
      "1313/1313 [==============================] - 24s 18ms/step - loss: 0.0025 - accuracy: 0.9990 - val_loss: 0.0937 - val_accuracy: 0.9902\n",
      "Epoch 42/50\n",
      "1313/1313 [==============================] - ETA: 0s - loss: 0.0026 - accuracy: 0.9992WARNING:tensorflow:Early stopping conditioned on metric `val_acc` which is not available. Available metrics are: loss,accuracy,val_loss,val_accuracy\n",
      "WARNING:tensorflow:Can save best model only with val_acc available, skipping.\n",
      "1313/1313 [==============================] - 25s 19ms/step - loss: 0.0026 - accuracy: 0.9992 - val_loss: 0.1154 - val_accuracy: 0.9887\n",
      "Epoch 43/50\n",
      "1313/1313 [==============================] - ETA: 0s - loss: 0.0023 - accuracy: 0.9993WARNING:tensorflow:Early stopping conditioned on metric `val_acc` which is not available. Available metrics are: loss,accuracy,val_loss,val_accuracy\n",
      "WARNING:tensorflow:Can save best model only with val_acc available, skipping.\n",
      "1313/1313 [==============================] - 24s 18ms/step - loss: 0.0023 - accuracy: 0.9993 - val_loss: 0.0979 - val_accuracy: 0.9903\n",
      "Epoch 44/50\n",
      "1311/1313 [============================>.] - ETA: 0s - loss: 0.0015 - accuracy: 0.9995WARNING:tensorflow:Early stopping conditioned on metric `val_acc` which is not available. Available metrics are: loss,accuracy,val_loss,val_accuracy\n",
      "WARNING:tensorflow:Can save best model only with val_acc available, skipping.\n",
      "1313/1313 [==============================] - 23s 18ms/step - loss: 0.0015 - accuracy: 0.9995 - val_loss: 0.0948 - val_accuracy: 0.9899\n",
      "Epoch 45/50\n",
      "1311/1313 [============================>.] - ETA: 0s - loss: 0.0039 - accuracy: 0.9988WARNING:tensorflow:Early stopping conditioned on metric `val_acc` which is not available. Available metrics are: loss,accuracy,val_loss,val_accuracy\n",
      "WARNING:tensorflow:Can save best model only with val_acc available, skipping.\n",
      "1313/1313 [==============================] - 23s 18ms/step - loss: 0.0039 - accuracy: 0.9988 - val_loss: 0.0886 - val_accuracy: 0.9902\n",
      "Epoch 46/50\n",
      "1312/1313 [============================>.] - ETA: 0s - loss: 0.0016 - accuracy: 0.9995WARNING:tensorflow:Early stopping conditioned on metric `val_acc` which is not available. Available metrics are: loss,accuracy,val_loss,val_accuracy\n",
      "WARNING:tensorflow:Can save best model only with val_acc available, skipping.\n",
      "1313/1313 [==============================] - 23s 18ms/step - loss: 0.0016 - accuracy: 0.9995 - val_loss: 0.0898 - val_accuracy: 0.9903\n",
      "Epoch 47/50\n",
      "1313/1313 [==============================] - ETA: 0s - loss: 0.0031 - accuracy: 0.9991WARNING:tensorflow:Early stopping conditioned on metric `val_acc` which is not available. Available metrics are: loss,accuracy,val_loss,val_accuracy\n",
      "WARNING:tensorflow:Can save best model only with val_acc available, skipping.\n",
      "1313/1313 [==============================] - 23s 18ms/step - loss: 0.0031 - accuracy: 0.9991 - val_loss: 0.0963 - val_accuracy: 0.9899\n",
      "Epoch 48/50\n",
      "1313/1313 [==============================] - ETA: 0s - loss: 0.0026 - accuracy: 0.9992 ETA: 0s - loss: 0.0026 - accuracy: 0.WARNING:tensorflow:Early stopping conditioned on metric `val_acc` which is not available. Available metrics are: loss,accuracy,val_loss,val_accuracy\n",
      "WARNING:tensorflow:Can save best model only with val_acc available, skipping.\n",
      "1313/1313 [==============================] - 24s 18ms/step - loss: 0.0026 - accuracy: 0.9992 - val_loss: 0.0923 - val_accuracy: 0.9903\n",
      "Epoch 49/50\n",
      "1310/1313 [============================>.] - ETA: 0s - loss: 0.0025 - accuracy: 0.9994WARNING:tensorflow:Early stopping conditioned on metric `val_acc` which is not available. Available metrics are: loss,accuracy,val_loss,val_accuracy\n",
      "WARNING:tensorflow:Can save best model only with val_acc available, skipping.\n",
      "1313/1313 [==============================] - 24s 18ms/step - loss: 0.0025 - accuracy: 0.9994 - val_loss: 0.0979 - val_accuracy: 0.9899\n",
      "Epoch 50/50\n",
      "1310/1313 [============================>.] - ETA: 0s - loss: 0.0030 - accuracy: 0.9991WARNING:tensorflow:Early stopping conditioned on metric `val_acc` which is not available. Available metrics are: loss,accuracy,val_loss,val_accuracy\n",
      "WARNING:tensorflow:Can save best model only with val_acc available, skipping.\n",
      "1313/1313 [==============================] - 25s 19ms/step - loss: 0.0030 - accuracy: 0.9991 - val_loss: 0.1001 - val_accuracy: 0.9900\n"
     ]
    }
   ],
   "source": [
    "his=model.fit(X_train,y_train,epochs=50,validation_split=0.3,callbacks=cb)"
   ]
  },
  {
   "cell_type": "code",
   "execution_count": 25,
   "metadata": {},
   "outputs": [
    {
     "name": "stdout",
     "output_type": "stream",
     "text": [
      "INFO:tensorflow:Assets written to: model\\assets\n"
     ]
    }
   ],
   "source": [
    "#model saved as h5\n",
    "model.save('model')"
   ]
  },
  {
   "cell_type": "code",
   "execution_count": 16,
   "metadata": {},
   "outputs": [],
   "source": [
    "saved_model=keras.models.load_model('model')"
   ]
  },
  {
   "cell_type": "code",
   "execution_count": 17,
   "metadata": {},
   "outputs": [
    {
     "name": "stdout",
     "output_type": "stream",
     "text": [
      "313/313 [==============================] - 2s 6ms/step - loss: 0.0810 - accuracy: 0.9907\n",
      "the accuracy of 1st is 0.9907000064849854 and accuracy of 2nd is 0.9907000064849854\n"
     ]
    }
   ],
   "source": [
    "#score_m = model.evaluate(X_test,y_test)\n",
    "score_s = saved_model.evaluate(X_test,y_test)\n",
    "print(f\"the accuracy of 1st is {score_s[1]} and accuracy of 2nd is {score_s[1]}\")"
   ]
  },
  {
   "cell_type": "code",
   "execution_count": null,
   "metadata": {},
   "outputs": [],
   "source": []
  }
 ],
 "metadata": {
  "interpreter": {
   "hash": "86869c74be89f9bd290c15a91a9eef9c67d46f8e9e602d3a6678c0d5092392d3"
  },
  "kernelspec": {
   "display_name": "Python 3.9.9 64-bit (windows store)",
   "language": "python",
   "name": "python3"
  },
  "language_info": {
   "codemirror_mode": {
    "name": "ipython",
    "version": 3
   },
   "file_extension": ".py",
   "mimetype": "text/x-python",
   "name": "python",
   "nbconvert_exporter": "python",
   "pygments_lexer": "ipython3",
   "version": "3.9.9"
  },
  "orig_nbformat": 4
 },
 "nbformat": 4,
 "nbformat_minor": 2
}
